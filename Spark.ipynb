{
 "cells": [
  {
   "cell_type": "code",
   "execution_count": 1,
   "id": "fb517c9a-4b21-4d6d-b52d-1b02e7fe5267",
   "metadata": {},
   "outputs": [],
   "source": [
    "from pyspark.sql import SparkSession\n",
    "from pyspark import SparkConf\n",
    "import pyspark.sql.types as t\n",
    "import pyspark.sql.functions as f\n",
    "from pyspark.sql import Window"
   ]
  },
  {
   "cell_type": "code",
   "execution_count": 2,
   "id": "ba45f389-ebb7-4611-87dd-49156dcc665c",
   "metadata": {},
   "outputs": [],
   "source": [
    "spark_session = (SparkSession.builder.master('local').appName('NYC Taxi app').config(conf=SparkConf()).getOrCreate())"
   ]
  },
  {
   "cell_type": "code",
   "execution_count": 3,
   "id": "ba4d7078-ba00-4018-a978-f58187da3201",
   "metadata": {},
   "outputs": [
    {
     "data": {
      "text/html": [
       "\n",
       "            <div>\n",
       "                <p><b>SparkSession - in-memory</b></p>\n",
       "                \n",
       "        <div>\n",
       "            <p><b>SparkContext</b></p>\n",
       "\n",
       "            <p><a href=\"http://DESKTOP-DASL2TD:4040\">Spark UI</a></p>\n",
       "\n",
       "            <dl>\n",
       "              <dt>Version</dt>\n",
       "                <dd><code>v3.4.1</code></dd>\n",
       "              <dt>Master</dt>\n",
       "                <dd><code>local</code></dd>\n",
       "              <dt>AppName</dt>\n",
       "                <dd><code>NYC Taxi app</code></dd>\n",
       "            </dl>\n",
       "        </div>\n",
       "        \n",
       "            </div>\n",
       "        "
      ],
      "text/plain": [
       "<pyspark.sql.session.SparkSession at 0x27ae8e2ea70>"
      ]
     },
     "execution_count": 3,
     "metadata": {},
     "output_type": "execute_result"
    }
   ],
   "source": [
    "spark_session"
   ]
  },
  {
   "cell_type": "code",
   "execution_count": 4,
   "id": "06fa5e03-e1aa-4ca4-9004-a03d342499fb",
   "metadata": {},
   "outputs": [],
   "source": [
    "data = [(\"Maksym\", 19), (\"Roman\", 19), (\"Borys\", 19)]\n",
    "simple_schema = t.StructType([\n",
    "    t.StructField(\"FirstName\", t.StringType(), True),\n",
    "    t.StructField(\"Age\", t.IntegerType(), True)\n",
    "])\n",
    "simple_df = spark_session.createDataFrame(data, simple_schema)\n"
   ]
  },
  {
   "cell_type": "code",
   "execution_count": 5,
   "id": "ac4f9e8b-4db6-47b2-928f-9bae60817948",
   "metadata": {},
   "outputs": [
    {
     "name": "stdout",
     "output_type": "stream",
     "text": [
      "root\n",
      " |-- FirstName: string (nullable = true)\n",
      " |-- Age: integer (nullable = true)\n",
      "\n"
     ]
    }
   ],
   "source": [
    "simple_df.printSchema()"
   ]
  },
  {
   "cell_type": "code",
   "execution_count": 96,
   "id": "b3b5f045-b4f4-4165-a153-7137c1b4f8c4",
   "metadata": {},
   "outputs": [],
   "source": [
    "trip_data_paths = [\n",
    "    'trip_data_1.csv',\n",
    "    'trip_data_2.csv',\n",
    "    'trip_data_3.csv',\n",
    "    'trip_data_4.csv',\n",
    "    'trip_data_5.csv',\n",
    "    'trip_data_6.csv',\n",
    "    'trip_data_7.csv',\n",
    "    'trip_data_8.csv',\n",
    "    'trip_data_9.csv',\n",
    "    'trip_data_10.csv',\n",
    "    'trip_data_11.csv',\n",
    "    'trip_data_12.csv',\n",
    "] \n",
    "trip_fare_paths = [\n",
    "    'trip_fare_1.csv',\n",
    "    'trip_fare_2.csv',\n",
    "    'trip_fare_3.csv',\n",
    "    'trip_fare_4.csv',\n",
    "    'trip_fare_5.csv',\n",
    "    'trip_fare_6.csv',\n",
    "    'trip_fare_7.csv',\n",
    "    'trip_fare_8.csv',\n",
    "    'trip_fare_9.csv',\n",
    "    'trip_fare_10.csv',\n",
    "    'trip_fare_11.csv',\n",
    "    'trip_fare_12.csv',\n",
    "]"
   ]
  },
  {
   "cell_type": "code",
   "execution_count": 97,
   "id": "b3dbbaa6-b2b2-4633-adff-51230387e355",
   "metadata": {},
   "outputs": [],
   "source": [
    "trip_data_schema = t.StructType([\n",
    "    t.StructField('medallion', t.StringType(), True),\n",
    "    t.StructField('hack_license', t.StringType(), True),\n",
    "    t.StructField('vendor_id', t.StringType(), True),\n",
    "    t.StructField('rate_code', t.IntegerType(), True),\n",
    "    t.StructField('store_and_fwd_flag', t.StringType(), True),\n",
    "    t.StructField('pickup_datetime', t.TimestampType(), True),\n",
    "    t.StructField('dropoff_datetime', t.TimestampType(), True),\n",
    "    t.StructField('passenger_count', t.IntegerType(), True),\n",
    "    t.StructField('trip_time_in_secs', t.IntegerType(), True),\n",
    "    t.StructField('trip_distance', t.FloatType(), True),\n",
    "    t.StructField('pickup_longitude', t.DoubleType(), True),\n",
    "    t.StructField('pickup_latitude', t.DoubleType(), True),\n",
    "    t.StructField('dropoff_longitude', t.DoubleType(), True),\n",
    "    t.StructField('dropoff_latitude', t.DoubleType(), True)\n",
    "])"
   ]
  },
  {
   "cell_type": "code",
   "execution_count": 98,
   "id": "1bbd2a23-37d6-451e-90b9-97e725b008be",
   "metadata": {},
   "outputs": [],
   "source": [
    "trip_fare_schema = t.StructType([\n",
    "    t.StructField('medallion', t.StringType(), True),\n",
    "    t.StructField('hack_license', t.StringType(), True),\n",
    "    t.StructField('vendor_id', t.StringType(), True),\n",
    "    t.StructField('pickup_datetime', t.TimestampType(), True),\n",
    "    t.StructField('payment_type', t.StringType(), True),\n",
    "    t.StructField('fare_amount', t.FloatType(), True),\n",
    "    t.StructField('surcharge', t.FloatType(), True),\n",
    "    t.StructField('mta_tax', t.FloatType(), True),\n",
    "    t.StructField('tip_amount', t.FloatType(), True),\n",
    "    t.StructField('tolls_amount', t.FloatType(), True),\n",
    "    t.StructField('total_amount', t.FloatType(), True)\n",
    "])"
   ]
  },
  {
   "cell_type": "code",
   "execution_count": 99,
   "id": "f0bc9a9f-5fa2-4aaa-9f82-ef232a39bdba",
   "metadata": {},
   "outputs": [],
   "source": [
    "trip_data_df = spark_session.read.csv(\n",
    "                                    trip_data_paths[0], \n",
    "                                    header=True, \n",
    "                                    nullValue='null',\n",
    "                                    dateFormat='yyyy-MM-dd HH:mm:ss',\n",
    "                                    schema=trip_data_schema\n",
    "                                    )\n",
    "trip_fare_df = spark_session.read.csv(\n",
    "                                     trip_fare_paths[0], \n",
    "                                     header=True,\n",
    "                                     nullValue='null',\n",
    "                                     dateFormat='yyyy-MM-dd HH:mm:ss',\n",
    "                                     schema=trip_fare_schema\n",
    "                                     )"
   ]
  },
  {
   "cell_type": "code",
   "execution_count": 100,
   "id": "7169c495-4948-496c-93d1-08a9bdf640b4",
   "metadata": {},
   "outputs": [],
   "source": [
    "for i in range(1, len(trip_data_paths), 1):\n",
    "    trip_data_df = trip_data_df.union(spark_session.read.csv(\n",
    "                                    trip_data_paths[i], \n",
    "                                    header=True, \n",
    "                                    nullValue='null',\n",
    "                                    dateFormat='yyyy-MM-dd HH:mm:ss',\n",
    "                                    schema=trip_data_schema\n",
    "                                    ))\n",
    "    trip_fare_df = trip_fare_df.union(spark_session.read.csv(\n",
    "                                     trip_fare_paths[i], \n",
    "                                     header=True,\n",
    "                                     nullValue='null',\n",
    "                                     dateFormat='yyyy-MM-dd HH:mm:ss',\n",
    "                                     schema=trip_fare_schema\n",
    "                                     ))\n",
    "    "
   ]
  },
  {
   "cell_type": "code",
   "execution_count": 12,
   "id": "5699eb6a-81e6-41f2-bd40-14bd5b943bce",
   "metadata": {},
   "outputs": [
    {
     "name": "stdout",
     "output_type": "stream",
     "text": [
      "44516019\n",
      "44516019\n"
     ]
    }
   ],
   "source": [
    "print(trip_data_df.count())\n",
    "print(trip_fare_df.count())"
   ]
  },
  {
   "cell_type": "code",
   "execution_count": 13,
   "id": "fa2b0ed3-9893-45d6-a9e3-ee88580b9da5",
   "metadata": {},
   "outputs": [],
   "source": [
    "trip_data_df = trip_data_df.dropna()"
   ]
  },
  {
   "cell_type": "code",
   "execution_count": 14,
   "id": "d0af3608-e6e4-422b-b027-23635d6b3b6e",
   "metadata": {},
   "outputs": [],
   "source": [
    "trip_fare_df = trip_fare_df.dropna()"
   ]
  },
  {
   "cell_type": "code",
   "execution_count": 15,
   "id": "5eaaaef6-8ab2-4b43-9852-6bda55889330",
   "metadata": {},
   "outputs": [
    {
     "name": "stdout",
     "output_type": "stream",
     "text": [
      "== Physical Plan ==\n",
      "Union\n",
      ":- *(1) Filter atleastnnonnulls(14, medallion#4, hack_license#5, vendor_id#6, rate_code#7, store_and_fwd_flag#8, pickup_datetime#9, dropoff_datetime#10, passenger_count#11, trip_time_in_secs#12, trip_distance#13, pickup_longitude#14, pickup_latitude#15, dropoff_longitude#16, dropoff_latitude#17)\n",
      ":  +- FileScan csv [medallion#4,hack_license#5,vendor_id#6,rate_code#7,store_and_fwd_flag#8,pickup_datetime#9,dropoff_datetime#10,passenger_count#11,trip_time_in_secs#12,trip_distance#13,pickup_longitude#14,pickup_latitude#15,dropoff_longitude#16,dropoff_latitude#17] Batched: false, DataFilters: [atleastnnonnulls(14, medallion#4, hack_license#5, vendor_id#6, rate_code#7, store_and_fwd_flag#8..., Format: CSV, Location: InMemoryFileIndex(1 paths)[file:/C:/Users/maxde/nyc-taxi-spark-project/trip_data_1.csv], PartitionFilters: [], PushedFilters: [], ReadSchema: struct<medallion:string,hack_license:string,vendor_id:string,rate_code:int,store_and_fwd_flag:str...\n",
      ":- *(2) Filter atleastnnonnulls(14, medallion#54, hack_license#55, vendor_id#56, rate_code#57, store_and_fwd_flag#58, pickup_datetime#59, dropoff_datetime#60, passenger_count#61, trip_time_in_secs#62, trip_distance#63, pickup_longitude#64, pickup_latitude#65, dropoff_longitude#66, dropoff_latitude#67)\n",
      ":  +- FileScan csv [medallion#54,hack_license#55,vendor_id#56,rate_code#57,store_and_fwd_flag#58,pickup_datetime#59,dropoff_datetime#60,passenger_count#61,trip_time_in_secs#62,trip_distance#63,pickup_longitude#64,pickup_latitude#65,dropoff_longitude#66,dropoff_latitude#67] Batched: false, DataFilters: [atleastnnonnulls(14, medallion#54, hack_license#55, vendor_id#56, rate_code#57, store_and_fwd_fl..., Format: CSV, Location: InMemoryFileIndex(1 paths)[file:/C:/Users/maxde/nyc-taxi-spark-project/trip_data_2.csv], PartitionFilters: [], PushedFilters: [], ReadSchema: struct<medallion:string,hack_license:string,vendor_id:string,rate_code:int,store_and_fwd_flag:str...\n",
      "+- *(3) Filter atleastnnonnulls(14, medallion#129, hack_license#130, vendor_id#131, rate_code#132, store_and_fwd_flag#133, pickup_datetime#134, dropoff_datetime#135, passenger_count#136, trip_time_in_secs#137, trip_distance#138, pickup_longitude#139, pickup_latitude#140, dropoff_longitude#141, dropoff_latitude#142)\n",
      "   +- FileScan csv [medallion#129,hack_license#130,vendor_id#131,rate_code#132,store_and_fwd_flag#133,pickup_datetime#134,dropoff_datetime#135,passenger_count#136,trip_time_in_secs#137,trip_distance#138,pickup_longitude#139,pickup_latitude#140,dropoff_longitude#141,dropoff_latitude#142] Batched: false, DataFilters: [atleastnnonnulls(14, medallion#129, hack_license#130, vendor_id#131, rate_code#132, store_and_fw..., Format: CSV, Location: InMemoryFileIndex(1 paths)[file:/C:/Users/maxde/nyc-taxi-spark-project/trip_data_3.csv], PartitionFilters: [], PushedFilters: [], ReadSchema: struct<medallion:string,hack_license:string,vendor_id:string,rate_code:int,store_and_fwd_flag:str...\n",
      "\n",
      "\n"
     ]
    }
   ],
   "source": [
    "trip_data_df.explain()"
   ]
  },
  {
   "cell_type": "code",
   "execution_count": 16,
   "id": "d0f0decc-3111-4921-bd47-005b179d5870",
   "metadata": {},
   "outputs": [
    {
     "name": "stdout",
     "output_type": "stream",
     "text": [
      "+--------------------+--------------------+---------+---------+------------------+-------------------+-------------------+---------------+-----------------+-------------+----------------+---------------+-----------------+----------------+\n",
      "|           medallion|        hack_license|vendor_id|rate_code|store_and_fwd_flag|    pickup_datetime|   dropoff_datetime|passenger_count|trip_time_in_secs|trip_distance|pickup_longitude|pickup_latitude|dropoff_longitude|dropoff_latitude|\n",
      "+--------------------+--------------------+---------+---------+------------------+-------------------+-------------------+---------------+-----------------+-------------+----------------+---------------+-----------------+----------------+\n",
      "|89D227B655E5C82AE...|BA96DE419E711691B...|      CMT|        1|                 N|2013-01-01 15:11:48|2013-01-01 15:18:10|              4|              382|          1.0|      -73.978165|      40.757977|       -73.989838|       40.751171|\n",
      "|0BD7C8F5BA12B88E0...|9FD8F69F0804BDB55...|      CMT|        1|                 N|2013-01-06 00:18:35|2013-01-06 00:22:54|              1|              259|          1.5|      -74.006683|      40.731781|       -73.994499|        40.75066|\n",
      "|0BD7C8F5BA12B88E0...|9FD8F69F0804BDB55...|      CMT|        1|                 N|2013-01-05 18:49:41|2013-01-05 18:54:23|              1|              282|          1.1|      -74.004707|       40.73777|       -74.009834|       40.726002|\n",
      "|DFD2202EE08F7A8DC...|51EE87E3205C985EF...|      CMT|        1|                 N|2013-01-07 23:54:15|2013-01-07 23:58:20|              2|              244|          0.7|      -73.974602|      40.759945|       -73.984734|       40.759388|\n",
      "|DFD2202EE08F7A8DC...|51EE87E3205C985EF...|      CMT|        1|                 N|2013-01-07 23:25:03|2013-01-07 23:34:24|              1|              560|          2.1|       -73.97625|      40.748528|       -74.002586|       40.747868|\n",
      "|20D9ECB2CA0767CF7...|598CCE5B9C1918568...|      CMT|        1|                 N|2013-01-07 15:27:48|2013-01-07 15:38:37|              1|              648|          1.7|      -73.966743|      40.764252|       -73.983322|       40.743763|\n",
      "|496644932DF393260...|513189AD756FF14FE...|      CMT|        1|                 N|2013-01-08 11:01:15|2013-01-08 11:08:14|              1|              418|          0.8|      -73.995804|      40.743977|       -74.007416|       40.744343|\n",
      "|0B57B9633A2FECD3D...|CCD4367B417ED6634...|      CMT|        1|                 N|2013-01-07 12:39:18|2013-01-07 13:10:56|              3|             1898|         10.7|      -73.989937|      40.756775|        -73.86525|        40.77063|\n",
      "|2C0E91FF20A856C89...|1DA2F6543A62B8ED9...|      CMT|        1|                 N|2013-01-07 18:15:47|2013-01-07 18:20:47|              1|              299|          0.8|      -73.980072|      40.743137|       -73.982712|       40.735336|\n",
      "|2D4B95E2FA7B2E851...|CD2F522EEE1FF5F5A...|      CMT|        1|                 N|2013-01-07 15:33:28|2013-01-07 15:49:26|              2|              957|          2.5|      -73.977936|      40.786983|       -73.952919|        40.80637|\n",
      "|E12F6AF991172EAC3...|06918214E951FA000...|      CMT|        1|                 N|2013-01-08 13:11:52|2013-01-08 13:19:50|              1|              477|          1.3|      -73.982452|      40.773167|       -73.964134|       40.773815|\n",
      "|E12F6AF991172EAC3...|06918214E951FA000...|      CMT|        1|                 N|2013-01-08 09:50:05|2013-01-08 10:02:54|              1|              768|          0.7|       -73.99556|      40.749294|       -73.988686|       40.759052|\n",
      "|78FFD9CD0CDA541F3...|E949C583ECF62C8F0...|      CMT|        1|                 N|2013-01-10 12:07:08|2013-01-10 12:17:29|              1|              620|          2.3|      -73.971497|      40.791321|       -73.964478|       40.775921|\n",
      "|237F49C3ECC11F502...|93C363DDF8ED9385D...|      CMT|        1|                 N|2013-01-07 07:35:47|2013-01-07 07:46:00|              1|              612|          2.3|       -73.98851|      40.774307|       -73.981094|       40.755325|\n",
      "|3349F919AA8AE5DC9...|7CE849FEF67514F08...|      CMT|        1|                 N|2013-01-10 15:42:29|2013-01-10 16:04:02|              1|             1293|          3.2|      -73.994911|      40.723221|       -73.971558|       40.761612|\n",
      "|3349F919AA8AE5DC9...|7CE849FEF67514F08...|      CMT|        1|                 N|2013-01-10 14:27:28|2013-01-10 14:45:21|              1|             1073|          4.4|      -74.010391|      40.708702|       -73.987846|       40.756104|\n",
      "|4C005EEBAA7BF26B8...|351BE7D984BE17DB2...|      CMT|        1|                 N|2013-01-07 22:09:59|2013-01-07 22:19:50|              1|              591|          1.7|      -73.973732|      40.756287|       -73.998413|       40.756832|\n",
      "|7D99C30FCE69B1A9D...|460C3F57DD9CB2265...|      CMT|        1|                 N|2013-01-07 17:18:16|2013-01-07 17:20:55|              1|              158|          0.7|      -73.968925|      40.767704|        -73.96199|       40.776566|\n",
      "|E6FBF80668FE0611A...|36773E80775F26CD1...|      CMT|        1|                 N|2013-01-07 06:08:51|2013-01-07 06:13:14|              1|              262|          1.7|       -73.96212|      40.769737|       -73.979561|        40.75539|\n",
      "|0C5296F3C8B16E702...|D2363240A9295EF57...|      CMT|        1|                 N|2013-01-07 22:25:46|2013-01-07 22:36:56|              1|              669|          2.3|      -73.989708|      40.756714|       -73.977615|       40.787575|\n",
      "+--------------------+--------------------+---------+---------+------------------+-------------------+-------------------+---------------+-----------------+-------------+----------------+---------------+-----------------+----------------+\n",
      "only showing top 20 rows\n",
      "\n"
     ]
    }
   ],
   "source": [
    "trip_data_df.show()"
   ]
  },
  {
   "cell_type": "code",
   "execution_count": 17,
   "id": "0992affd-6482-4a41-9097-93ddc173ef29",
   "metadata": {},
   "outputs": [
    {
     "name": "stdout",
     "output_type": "stream",
     "text": [
      "+--------------------+--------------------+---------+-------------------+------------+-----------+---------+-------+----------+------------+------------+\n",
      "|           medallion|        hack_license|vendor_id|    pickup_datetime|payment_type|fare_amount|surcharge|mta_tax|tip_amount|tolls_amount|total_amount|\n",
      "+--------------------+--------------------+---------+-------------------+------------+-----------+---------+-------+----------+------------+------------+\n",
      "|89D227B655E5C82AE...|BA96DE419E711691B...|      CMT|2013-01-01 15:11:48|         CSH|        6.5|      0.0|    0.5|       0.0|         0.0|         7.0|\n",
      "|0BD7C8F5BA12B88E0...|9FD8F69F0804BDB55...|      CMT|2013-01-06 00:18:35|         CSH|        6.0|      0.5|    0.5|       0.0|         0.0|         7.0|\n",
      "|0BD7C8F5BA12B88E0...|9FD8F69F0804BDB55...|      CMT|2013-01-05 18:49:41|         CSH|        5.5|      1.0|    0.5|       0.0|         0.0|         7.0|\n",
      "|DFD2202EE08F7A8DC...|51EE87E3205C985EF...|      CMT|2013-01-07 23:54:15|         CSH|        5.0|      0.5|    0.5|       0.0|         0.0|         6.0|\n",
      "|DFD2202EE08F7A8DC...|51EE87E3205C985EF...|      CMT|2013-01-07 23:25:03|         CSH|        9.5|      0.5|    0.5|       0.0|         0.0|        10.5|\n",
      "|20D9ECB2CA0767CF7...|598CCE5B9C1918568...|      CMT|2013-01-07 15:27:48|         CSH|        9.5|      0.0|    0.5|       0.0|         0.0|        10.0|\n",
      "|496644932DF393260...|513189AD756FF14FE...|      CMT|2013-01-08 11:01:15|         CSH|        6.0|      0.0|    0.5|       0.0|         0.0|         6.5|\n",
      "|0B57B9633A2FECD3D...|CCD4367B417ED6634...|      CMT|2013-01-07 12:39:18|         CSH|       34.0|      0.0|    0.5|       0.0|         4.8|        39.3|\n",
      "|2C0E91FF20A856C89...|1DA2F6543A62B8ED9...|      CMT|2013-01-07 18:15:47|         CSH|        5.5|      1.0|    0.5|       0.0|         0.0|         7.0|\n",
      "|2D4B95E2FA7B2E851...|CD2F522EEE1FF5F5A...|      CMT|2013-01-07 15:33:28|         CSH|       13.0|      0.0|    0.5|       0.0|         0.0|        13.5|\n",
      "|E12F6AF991172EAC3...|06918214E951FA000...|      CMT|2013-01-08 13:11:52|         CSH|        7.5|      0.0|    0.5|       0.0|         0.0|         8.0|\n",
      "|E12F6AF991172EAC3...|06918214E951FA000...|      CMT|2013-01-08 09:50:05|         CSH|        9.0|      0.0|    0.5|       0.0|         0.0|         9.5|\n",
      "|78FFD9CD0CDA541F3...|E949C583ECF62C8F0...|      CMT|2013-01-10 12:07:08|         CSH|        9.5|      0.0|    0.5|       0.0|         0.0|        10.0|\n",
      "|237F49C3ECC11F502...|93C363DDF8ED9385D...|      CMT|2013-01-07 07:35:47|         CSH|       10.0|      0.0|    0.5|       0.0|         0.0|        10.5|\n",
      "|3349F919AA8AE5DC9...|7CE849FEF67514F08...|      CMT|2013-01-10 15:42:29|         CSH|       15.5|      0.0|    0.5|       0.0|         0.0|        16.0|\n",
      "|3349F919AA8AE5DC9...|7CE849FEF67514F08...|      CMT|2013-01-10 14:27:28|         CSH|       16.5|      0.0|    0.5|       0.0|         0.0|        17.0|\n",
      "|4C005EEBAA7BF26B8...|351BE7D984BE17DB2...|      CMT|2013-01-07 22:09:59|         CSH|        9.0|      0.5|    0.5|       0.0|         0.0|        10.0|\n",
      "|7D99C30FCE69B1A9D...|460C3F57DD9CB2265...|      CMT|2013-01-07 17:18:16|         CSH|        4.5|      1.0|    0.5|       0.0|         0.0|         6.0|\n",
      "|E6FBF80668FE0611A...|36773E80775F26CD1...|      CMT|2013-01-07 06:08:51|         CSH|        7.0|      0.0|    0.5|       0.0|         0.0|         7.5|\n",
      "|0C5296F3C8B16E702...|D2363240A9295EF57...|      CMT|2013-01-07 22:25:46|         CSH|       10.5|      0.5|    0.5|       0.0|         0.0|        11.5|\n",
      "+--------------------+--------------------+---------+-------------------+------------+-----------+---------+-------+----------+------------+------------+\n",
      "only showing top 20 rows\n",
      "\n"
     ]
    }
   ],
   "source": [
    "trip_fare_df.show()"
   ]
  },
  {
   "cell_type": "code",
   "execution_count": 18,
   "id": "b894d2fa-e20e-44ec-84ab-8b9420937dd1",
   "metadata": {},
   "outputs": [
    {
     "name": "stdout",
     "output_type": "stream",
     "text": [
      "root\n",
      " |-- medallion: string (nullable = true)\n",
      " |-- hack_license: string (nullable = true)\n",
      " |-- vendor_id: string (nullable = true)\n",
      " |-- rate_code: integer (nullable = true)\n",
      " |-- store_and_fwd_flag: string (nullable = true)\n",
      " |-- pickup_datetime: timestamp (nullable = true)\n",
      " |-- dropoff_datetime: timestamp (nullable = true)\n",
      " |-- passenger_count: integer (nullable = true)\n",
      " |-- trip_time_in_secs: integer (nullable = true)\n",
      " |-- trip_distance: float (nullable = true)\n",
      " |-- pickup_longitude: double (nullable = true)\n",
      " |-- pickup_latitude: double (nullable = true)\n",
      " |-- dropoff_longitude: double (nullable = true)\n",
      " |-- dropoff_latitude: double (nullable = true)\n",
      "\n"
     ]
    }
   ],
   "source": [
    "trip_data_df.printSchema()"
   ]
  },
  {
   "cell_type": "code",
   "execution_count": 19,
   "id": "3a222f59-0246-4c74-8128-7fe989afc662",
   "metadata": {},
   "outputs": [
    {
     "name": "stdout",
     "output_type": "stream",
     "text": [
      "root\n",
      " |-- medallion: string (nullable = true)\n",
      " |-- hack_license: string (nullable = true)\n",
      " |-- vendor_id: string (nullable = true)\n",
      " |-- pickup_datetime: timestamp (nullable = true)\n",
      " |-- payment_type: string (nullable = true)\n",
      " |-- fare_amount: float (nullable = true)\n",
      " |-- surcharge: float (nullable = true)\n",
      " |-- mta_tax: float (nullable = true)\n",
      " |-- tip_amount: float (nullable = true)\n",
      " |-- tolls_amount: float (nullable = true)\n",
      " |-- total_amount: float (nullable = true)\n",
      "\n"
     ]
    }
   ],
   "source": [
    "trip_fare_df.printSchema()"
   ]
  },
  {
   "cell_type": "code",
   "execution_count": 20,
   "id": "18981583-b1b1-4ff2-abe4-0afa3907b160",
   "metadata": {},
   "outputs": [
    {
     "name": "stdout",
     "output_type": "stream",
     "text": [
      "+-------+--------------------+--------------------+---------+------------------+------------------+------------------+------------------+------------------+------------------+-----------------+------------------+-----------------+\n",
      "|summary|           medallion|        hack_license|vendor_id|         rate_code|store_and_fwd_flag|   passenger_count| trip_time_in_secs|     trip_distance|  pickup_longitude|  pickup_latitude| dropoff_longitude| dropoff_latitude|\n",
      "+-------+--------------------+--------------------+---------+------------------+------------------+------------------+------------------+------------------+------------------+-----------------+------------------+-----------------+\n",
      "|  count|            22418017|            22418017| 22418017|          22418017|          22418017|          22418017|          22418017|          22418017|          22418017|         22418017|          22418017|         22418017|\n",
      "|   mean|                null|                null|     null|1.0331022141699688|              null|1.2702454904909743| 694.5788627513308| 2.740914532663293|-72.56115044129281|39.97152847062893|-72.56892239227835|39.97670358919927|\n",
      "| stddev|                null|                null|     null|0.4010056686883873|              null| 0.621466985922907|502.29613495716626|3.2476133639741227|10.132891560089218|5.581801506785066|10.101707557382039|5.564782218023226|\n",
      "|    min|00005007A9F30E289...|0002555BBE359440D...|      CMT|                 0|                 N|                 0|                 0|               0.0|        -179.36124|       -39.762348|        -179.36124|       -35.565784|\n",
      "|    max|FFF9D2834D2407996...|FFFF521546CE00599...|      CMT|               221|                 Y|                 9|             10733|             100.0|         176.54373|        82.514046|         176.54373|        83.516693|\n",
      "+-------+--------------------+--------------------+---------+------------------+------------------+------------------+------------------+------------------+------------------+-----------------+------------------+-----------------+\n",
      "\n"
     ]
    }
   ],
   "source": [
    "trip_data_df.describe().show()"
   ]
  },
  {
   "cell_type": "code",
   "execution_count": 21,
   "id": "7de9e0f3-3bed-4a2a-8fe8-38ac05c9248a",
   "metadata": {},
   "outputs": [
    {
     "name": "stdout",
     "output_type": "stream",
     "text": [
      "+-------+--------------------+--------------------+---------+------------+------------------+-------------------+-------------------+------------------+-------------------+------------------+\n",
      "|summary|           medallion|        hack_license|vendor_id|payment_type|       fare_amount|          surcharge|            mta_tax|        tip_amount|       tolls_amount|      total_amount|\n",
      "+-------+--------------------+--------------------+---------+------------+------------------+-------------------+-------------------+------------------+-------------------+------------------+\n",
      "|  count|            44516019|            44516019| 44516019|    44516019|          44516019|           44516019|           44516019|          44516019|           44516019|          44516019|\n",
      "|   mean|                null|                null|     null|        null|11.811171271636024|0.31866156854682565|0.49840430475150976|1.2947101801197403|0.21223752693827827| 14.13518485850585|\n",
      "| stddev|                null|                null|     null|        null| 9.653469420126028|0.36405450183831123|0.02820108860992009| 2.065990374319889|  1.077547729656422|11.524472626591773|\n",
      "|    min|00005007A9F30E289...|0002555BBE359440D...|      CMT|         CRD|               2.5|                0.0|                0.0|               0.0|                0.0|               2.5|\n",
      "|    max|FFFECF75AB6CC4FF9...|FFFF521546CE00599...|      VTS|         UNK|             500.0|               15.0|                0.5|             200.0|               20.0|             650.0|\n",
      "+-------+--------------------+--------------------+---------+------------+------------------+-------------------+-------------------+------------------+-------------------+------------------+\n",
      "\n"
     ]
    }
   ],
   "source": [
    "trip_fare_df.describe().show()"
   ]
  },
  {
   "cell_type": "code",
   "execution_count": 22,
   "id": "d40deb85-9888-4c46-b175-df60c06194d8",
   "metadata": {},
   "outputs": [
    {
     "name": "stdout",
     "output_type": "stream",
     "text": [
      "22418017\n",
      "44516019\n"
     ]
    }
   ],
   "source": [
    "print(trip_data_df.count())\n",
    "print(trip_fare_df.count())"
   ]
  },
  {
   "cell_type": "code",
   "execution_count": 102,
   "id": "69c57a2d-1d5f-480b-ae2e-d409816674a1",
   "metadata": {},
   "outputs": [],
   "source": [
    "trip_data_df = trip_data_df.withColumn('pickup_year', \n",
    "                                       f.col('pickup_datetime')\n",
    "                                       .substr(startPos=0, length=4))\n",
    "\n",
    "trip_data_df = trip_data_df.withColumn('pickup_month',\n",
    "                                      f.col('pickup_datetime')\n",
    "                                       .substr(startPos=6, length=2))\n",
    "\n",
    "trip_data_df = trip_data_df.withColumn('pickup_day',\n",
    "                                      f.col('pickup_datetime')\n",
    "                                       .substr(startPos=9, length=2))\n",
    "\n",
    "trip_data_df = trip_data_df.withColumn('pickup_time',\n",
    "                                      f.col('pickup_datetime')\n",
    "                                       .substr(startPos=11, length=8))\n",
    "\n",
    "trip_data_df = trip_data_df.withColumn('dropoff_year',\n",
    "                                      f.col('dropoff_datetime')\n",
    "                                       .substr(startPos=0, length=4))\n",
    "\n",
    "trip_data_df = trip_data_df.withColumn('dropoff_month',\n",
    "                                      f.col('dropoff_datetime')\n",
    "                                      .substr(startPos=6, length=2))\n",
    "\n",
    "trip_data_df = trip_data_df.withColumn('dropoff_day', \n",
    "                                      f.col('dropoff_datetime')\n",
    "                                      .substr(startPos=9, length=2))\n",
    "\n",
    "trip_data_df = trip_data_df.withColumn('dropoff_time', \n",
    "                                      f.col('dropoff_datetime')\n",
    "                                      .substr(startPos=11, length=8))\n",
    "\n"
   ]
  },
  {
   "cell_type": "code",
   "execution_count": 103,
   "id": "e04f1ae2-bfc4-483c-b92a-5ea873b20563",
   "metadata": {},
   "outputs": [],
   "source": [
    "trip_fare_df = trip_fare_df.withColumn('pickup_year', \n",
    "                                       f.col('pickup_datetime')\n",
    "                                       .substr(startPos=0, length=4))\n",
    "\n",
    "trip_fare_df = trip_fare_df.withColumn('pickup_month',\n",
    "                                      f.col('pickup_datetime')\n",
    "                                       .substr(startPos=6, length=2))\n",
    "\n",
    "trip_fare_df = trip_fare_df.withColumn('pickup_day',\n",
    "                                      f.col('pickup_datetime')\n",
    "                                       .substr(startPos=9, length=2))\n",
    "\n",
    "trip_fare_df = trip_fare_df.withColumn('pickup_time',\n",
    "                                      f.col('pickup_datetime')\n",
    "                                       .substr(startPos=11, length=8))"
   ]
  },
  {
   "cell_type": "code",
   "execution_count": 25,
   "id": "b5abb5d6-5e06-46d6-990a-d2caaf690af0",
   "metadata": {},
   "outputs": [
    {
     "name": "stdout",
     "output_type": "stream",
     "text": [
      "+--------------------+--------------------+---------+---------+------------------+-------------------+-------------------+---------------+-----------------+-------------+----------------+---------------+-----------------+----------------+-----------+------------+----------+-----------+------------+-------------+-----------+------------+\n",
      "|           medallion|        hack_license|vendor_id|rate_code|store_and_fwd_flag|    pickup_datetime|   dropoff_datetime|passenger_count|trip_time_in_secs|trip_distance|pickup_longitude|pickup_latitude|dropoff_longitude|dropoff_latitude|pickup_year|pickup_month|pickup_day|pickup_time|dropoff_year|dropoff_month|dropoff_day|dropoff_time|\n",
      "+--------------------+--------------------+---------+---------+------------------+-------------------+-------------------+---------------+-----------------+-------------+----------------+---------------+-----------------+----------------+-----------+------------+----------+-----------+------------+-------------+-----------+------------+\n",
      "|89D227B655E5C82AE...|BA96DE419E711691B...|      CMT|        1|                 N|2013-01-01 15:11:48|2013-01-01 15:18:10|              4|              382|          1.0|      -73.978165|      40.757977|       -73.989838|       40.751171|       2013|          01|        01|    15:11:4|        2013|           01|         01|     15:18:1|\n",
      "|0BD7C8F5BA12B88E0...|9FD8F69F0804BDB55...|      CMT|        1|                 N|2013-01-06 00:18:35|2013-01-06 00:22:54|              1|              259|          1.5|      -74.006683|      40.731781|       -73.994499|        40.75066|       2013|          01|        06|    00:18:3|        2013|           01|         06|     00:22:5|\n",
      "|0BD7C8F5BA12B88E0...|9FD8F69F0804BDB55...|      CMT|        1|                 N|2013-01-05 18:49:41|2013-01-05 18:54:23|              1|              282|          1.1|      -74.004707|       40.73777|       -74.009834|       40.726002|       2013|          01|        05|    18:49:4|        2013|           01|         05|     18:54:2|\n",
      "|DFD2202EE08F7A8DC...|51EE87E3205C985EF...|      CMT|        1|                 N|2013-01-07 23:54:15|2013-01-07 23:58:20|              2|              244|          0.7|      -73.974602|      40.759945|       -73.984734|       40.759388|       2013|          01|        07|    23:54:1|        2013|           01|         07|     23:58:2|\n",
      "|DFD2202EE08F7A8DC...|51EE87E3205C985EF...|      CMT|        1|                 N|2013-01-07 23:25:03|2013-01-07 23:34:24|              1|              560|          2.1|       -73.97625|      40.748528|       -74.002586|       40.747868|       2013|          01|        07|    23:25:0|        2013|           01|         07|     23:34:2|\n",
      "|20D9ECB2CA0767CF7...|598CCE5B9C1918568...|      CMT|        1|                 N|2013-01-07 15:27:48|2013-01-07 15:38:37|              1|              648|          1.7|      -73.966743|      40.764252|       -73.983322|       40.743763|       2013|          01|        07|    15:27:4|        2013|           01|         07|     15:38:3|\n",
      "|496644932DF393260...|513189AD756FF14FE...|      CMT|        1|                 N|2013-01-08 11:01:15|2013-01-08 11:08:14|              1|              418|          0.8|      -73.995804|      40.743977|       -74.007416|       40.744343|       2013|          01|        08|    11:01:1|        2013|           01|         08|     11:08:1|\n",
      "|0B57B9633A2FECD3D...|CCD4367B417ED6634...|      CMT|        1|                 N|2013-01-07 12:39:18|2013-01-07 13:10:56|              3|             1898|         10.7|      -73.989937|      40.756775|        -73.86525|        40.77063|       2013|          01|        07|    12:39:1|        2013|           01|         07|     13:10:5|\n",
      "|2C0E91FF20A856C89...|1DA2F6543A62B8ED9...|      CMT|        1|                 N|2013-01-07 18:15:47|2013-01-07 18:20:47|              1|              299|          0.8|      -73.980072|      40.743137|       -73.982712|       40.735336|       2013|          01|        07|    18:15:4|        2013|           01|         07|     18:20:4|\n",
      "|2D4B95E2FA7B2E851...|CD2F522EEE1FF5F5A...|      CMT|        1|                 N|2013-01-07 15:33:28|2013-01-07 15:49:26|              2|              957|          2.5|      -73.977936|      40.786983|       -73.952919|        40.80637|       2013|          01|        07|    15:33:2|        2013|           01|         07|     15:49:2|\n",
      "|E12F6AF991172EAC3...|06918214E951FA000...|      CMT|        1|                 N|2013-01-08 13:11:52|2013-01-08 13:19:50|              1|              477|          1.3|      -73.982452|      40.773167|       -73.964134|       40.773815|       2013|          01|        08|    13:11:5|        2013|           01|         08|     13:19:5|\n",
      "|E12F6AF991172EAC3...|06918214E951FA000...|      CMT|        1|                 N|2013-01-08 09:50:05|2013-01-08 10:02:54|              1|              768|          0.7|       -73.99556|      40.749294|       -73.988686|       40.759052|       2013|          01|        08|    09:50:0|        2013|           01|         08|     10:02:5|\n",
      "|78FFD9CD0CDA541F3...|E949C583ECF62C8F0...|      CMT|        1|                 N|2013-01-10 12:07:08|2013-01-10 12:17:29|              1|              620|          2.3|      -73.971497|      40.791321|       -73.964478|       40.775921|       2013|          01|        10|    12:07:0|        2013|           01|         10|     12:17:2|\n",
      "|237F49C3ECC11F502...|93C363DDF8ED9385D...|      CMT|        1|                 N|2013-01-07 07:35:47|2013-01-07 07:46:00|              1|              612|          2.3|       -73.98851|      40.774307|       -73.981094|       40.755325|       2013|          01|        07|    07:35:4|        2013|           01|         07|     07:46:0|\n",
      "|3349F919AA8AE5DC9...|7CE849FEF67514F08...|      CMT|        1|                 N|2013-01-10 15:42:29|2013-01-10 16:04:02|              1|             1293|          3.2|      -73.994911|      40.723221|       -73.971558|       40.761612|       2013|          01|        10|    15:42:2|        2013|           01|         10|     16:04:0|\n",
      "|3349F919AA8AE5DC9...|7CE849FEF67514F08...|      CMT|        1|                 N|2013-01-10 14:27:28|2013-01-10 14:45:21|              1|             1073|          4.4|      -74.010391|      40.708702|       -73.987846|       40.756104|       2013|          01|        10|    14:27:2|        2013|           01|         10|     14:45:2|\n",
      "|4C005EEBAA7BF26B8...|351BE7D984BE17DB2...|      CMT|        1|                 N|2013-01-07 22:09:59|2013-01-07 22:19:50|              1|              591|          1.7|      -73.973732|      40.756287|       -73.998413|       40.756832|       2013|          01|        07|    22:09:5|        2013|           01|         07|     22:19:5|\n",
      "|7D99C30FCE69B1A9D...|460C3F57DD9CB2265...|      CMT|        1|                 N|2013-01-07 17:18:16|2013-01-07 17:20:55|              1|              158|          0.7|      -73.968925|      40.767704|        -73.96199|       40.776566|       2013|          01|        07|    17:18:1|        2013|           01|         07|     17:20:5|\n",
      "|E6FBF80668FE0611A...|36773E80775F26CD1...|      CMT|        1|                 N|2013-01-07 06:08:51|2013-01-07 06:13:14|              1|              262|          1.7|       -73.96212|      40.769737|       -73.979561|        40.75539|       2013|          01|        07|    06:08:5|        2013|           01|         07|     06:13:1|\n",
      "|0C5296F3C8B16E702...|D2363240A9295EF57...|      CMT|        1|                 N|2013-01-07 22:25:46|2013-01-07 22:36:56|              1|              669|          2.3|      -73.989708|      40.756714|       -73.977615|       40.787575|       2013|          01|        07|    22:25:4|        2013|           01|         07|     22:36:5|\n",
      "+--------------------+--------------------+---------+---------+------------------+-------------------+-------------------+---------------+-----------------+-------------+----------------+---------------+-----------------+----------------+-----------+------------+----------+-----------+------------+-------------+-----------+------------+\n",
      "only showing top 20 rows\n",
      "\n"
     ]
    }
   ],
   "source": [
    "trip_data_df.show()"
   ]
  },
  {
   "cell_type": "code",
   "execution_count": 76,
   "id": "1bc6975c-a3ee-4a30-9f8b-f6b4f87448a9",
   "metadata": {},
   "outputs": [
    {
     "name": "stdout",
     "output_type": "stream",
     "text": [
      "+--------------------+--------------------+---------+-------------------+------------+-----------+---------+-------+----------+------------+------------+-----------+------------+----------+-----------+\n",
      "|           medallion|        hack_license|vendor_id|    pickup_datetime|payment_type|fare_amount|surcharge|mta_tax|tip_amount|tolls_amount|total_amount|pickup_year|pickup_month|pickup_day|pickup_time|\n",
      "+--------------------+--------------------+---------+-------------------+------------+-----------+---------+-------+----------+------------+------------+-----------+------------+----------+-----------+\n",
      "|89D227B655E5C82AE...|BA96DE419E711691B...|      CMT|2013-01-01 15:11:48|         CSH|        6.5|      0.0|    0.5|       0.0|         0.0|         7.0|       2013|          01|        01|    15:11:4|\n",
      "|0BD7C8F5BA12B88E0...|9FD8F69F0804BDB55...|      CMT|2013-01-06 00:18:35|         CSH|        6.0|      0.5|    0.5|       0.0|         0.0|         7.0|       2013|          01|        06|    00:18:3|\n",
      "|0BD7C8F5BA12B88E0...|9FD8F69F0804BDB55...|      CMT|2013-01-05 18:49:41|         CSH|        5.5|      1.0|    0.5|       0.0|         0.0|         7.0|       2013|          01|        05|    18:49:4|\n",
      "|DFD2202EE08F7A8DC...|51EE87E3205C985EF...|      CMT|2013-01-07 23:54:15|         CSH|        5.0|      0.5|    0.5|       0.0|         0.0|         6.0|       2013|          01|        07|    23:54:1|\n",
      "|DFD2202EE08F7A8DC...|51EE87E3205C985EF...|      CMT|2013-01-07 23:25:03|         CSH|        9.5|      0.5|    0.5|       0.0|         0.0|        10.5|       2013|          01|        07|    23:25:0|\n",
      "|20D9ECB2CA0767CF7...|598CCE5B9C1918568...|      CMT|2013-01-07 15:27:48|         CSH|        9.5|      0.0|    0.5|       0.0|         0.0|        10.0|       2013|          01|        07|    15:27:4|\n",
      "|496644932DF393260...|513189AD756FF14FE...|      CMT|2013-01-08 11:01:15|         CSH|        6.0|      0.0|    0.5|       0.0|         0.0|         6.5|       2013|          01|        08|    11:01:1|\n",
      "|0B57B9633A2FECD3D...|CCD4367B417ED6634...|      CMT|2013-01-07 12:39:18|         CSH|       34.0|      0.0|    0.5|       0.0|         4.8|        39.3|       2013|          01|        07|    12:39:1|\n",
      "|2C0E91FF20A856C89...|1DA2F6543A62B8ED9...|      CMT|2013-01-07 18:15:47|         CSH|        5.5|      1.0|    0.5|       0.0|         0.0|         7.0|       2013|          01|        07|    18:15:4|\n",
      "|2D4B95E2FA7B2E851...|CD2F522EEE1FF5F5A...|      CMT|2013-01-07 15:33:28|         CSH|       13.0|      0.0|    0.5|       0.0|         0.0|        13.5|       2013|          01|        07|    15:33:2|\n",
      "|E12F6AF991172EAC3...|06918214E951FA000...|      CMT|2013-01-08 13:11:52|         CSH|        7.5|      0.0|    0.5|       0.0|         0.0|         8.0|       2013|          01|        08|    13:11:5|\n",
      "|E12F6AF991172EAC3...|06918214E951FA000...|      CMT|2013-01-08 09:50:05|         CSH|        9.0|      0.0|    0.5|       0.0|         0.0|         9.5|       2013|          01|        08|    09:50:0|\n",
      "|78FFD9CD0CDA541F3...|E949C583ECF62C8F0...|      CMT|2013-01-10 12:07:08|         CSH|        9.5|      0.0|    0.5|       0.0|         0.0|        10.0|       2013|          01|        10|    12:07:0|\n",
      "|237F49C3ECC11F502...|93C363DDF8ED9385D...|      CMT|2013-01-07 07:35:47|         CSH|       10.0|      0.0|    0.5|       0.0|         0.0|        10.5|       2013|          01|        07|    07:35:4|\n",
      "|3349F919AA8AE5DC9...|7CE849FEF67514F08...|      CMT|2013-01-10 15:42:29|         CSH|       15.5|      0.0|    0.5|       0.0|         0.0|        16.0|       2013|          01|        10|    15:42:2|\n",
      "|3349F919AA8AE5DC9...|7CE849FEF67514F08...|      CMT|2013-01-10 14:27:28|         CSH|       16.5|      0.0|    0.5|       0.0|         0.0|        17.0|       2013|          01|        10|    14:27:2|\n",
      "|4C005EEBAA7BF26B8...|351BE7D984BE17DB2...|      CMT|2013-01-07 22:09:59|         CSH|        9.0|      0.5|    0.5|       0.0|         0.0|        10.0|       2013|          01|        07|    22:09:5|\n",
      "|7D99C30FCE69B1A9D...|460C3F57DD9CB2265...|      CMT|2013-01-07 17:18:16|         CSH|        4.5|      1.0|    0.5|       0.0|         0.0|         6.0|       2013|          01|        07|    17:18:1|\n",
      "|E6FBF80668FE0611A...|36773E80775F26CD1...|      CMT|2013-01-07 06:08:51|         CSH|        7.0|      0.0|    0.5|       0.0|         0.0|         7.5|       2013|          01|        07|    06:08:5|\n",
      "|0C5296F3C8B16E702...|D2363240A9295EF57...|      CMT|2013-01-07 22:25:46|         CSH|       10.5|      0.5|    0.5|       0.0|         0.0|        11.5|       2013|          01|        07|    22:25:4|\n",
      "+--------------------+--------------------+---------+-------------------+------------+-----------+---------+-------+----------+------------+------------+-----------+------------+----------+-----------+\n",
      "only showing top 20 rows\n",
      "\n"
     ]
    }
   ],
   "source": [
    "trip_fare_df.show()"
   ]
  },
  {
   "cell_type": "code",
   "execution_count": 26,
   "id": "81957f04-33fa-4e28-a69e-2caa35b57c5c",
   "metadata": {},
   "outputs": [],
   "source": [
    "# 1 Did the drivers fulfill the monthly norm for the number of transportations for January 2013 ?"
   ]
  },
  {
   "cell_type": "code",
   "execution_count": 27,
   "id": "cd40dcd0-137b-42ec-b22f-c483d8aca4e4",
   "metadata": {},
   "outputs": [],
   "source": [
    "travel_time_df = trip_data_df.select(f.avg('trip_time_in_secs'))"
   ]
  },
  {
   "cell_type": "code",
   "execution_count": 28,
   "id": "e2dc19e2-3e2e-4f65-a71b-b79d8d5bc4bb",
   "metadata": {},
   "outputs": [],
   "source": [
    "avg_time_travel_value = travel_time_df.first()['avg(trip_time_in_secs)']"
   ]
  },
  {
   "cell_type": "code",
   "execution_count": 29,
   "id": "61249d3b-3893-43a4-8215-006d1002cbd3",
   "metadata": {},
   "outputs": [],
   "source": [
    "FULL_TIME_WORK_DAY_IN_SECS = 28800"
   ]
  },
  {
   "cell_type": "code",
   "execution_count": 30,
   "id": "04d704b9-d241-4c84-838e-3384f62392ac",
   "metadata": {},
   "outputs": [],
   "source": [
    "MINIMUM_AMOUNT_OF_TRIPS = round(FULL_TIME_WORK_DAY_IN_SECS/avg_time_travel_value)"
   ]
  },
  {
   "cell_type": "code",
   "execution_count": 31,
   "id": "552df2f1-e233-483c-8961-64f939758dce",
   "metadata": {},
   "outputs": [],
   "source": [
    "broadcast_amount_of_trips = spark_session.sparkContext.broadcast(MINIMUM_AMOUNT_OF_TRIPS)"
   ]
  },
  {
   "cell_type": "code",
   "execution_count": 32,
   "id": "17fa6550-6517-4be9-b235-4719e17fb747",
   "metadata": {},
   "outputs": [],
   "source": [
    "new_data_df = trip_data_df.filter(\n",
    "                                  (f.col('pickup_year') == '2013')\n",
    "                                     &\n",
    "                                  (f.col('pickup_month') == '01')\n",
    "                                 )"
   ]
  },
  {
   "cell_type": "code",
   "execution_count": 33,
   "id": "1d817d80-5407-4283-9613-eaf4491f296c",
   "metadata": {},
   "outputs": [],
   "source": [
    "info_df = new_data_df.groupBy('hack_license')\\\n",
    "                     .agg(f.count('hack_license').alias('total_trips_amount_by_jan_2013'))\\\n",
    "                     .orderBy('total_trips_amount_by_jan_2013', ascending=False) "
   ]
  },
  {
   "cell_type": "code",
   "execution_count": 34,
   "id": "8ca9e429-0c7c-4d2b-b72e-917293cd920a",
   "metadata": {},
   "outputs": [],
   "source": [
    "info_df = info_df.withColumn('minimal_trips_amount', f.lit(broadcast_amount_of_trips.value))"
   ]
  },
  {
   "cell_type": "code",
   "execution_count": 35,
   "id": "55e15149-9e6d-4c88-9156-33788d309d84",
   "metadata": {},
   "outputs": [],
   "source": [
    "info_df = info_df.withColumn('is_min_amount_fulfiled', \n",
    "                             f.when(info_df.total_trips_amount_by_jan_2013 >= info_df.minimal_trips_amount, 'Y').otherwise('N'))"
   ]
  },
  {
   "cell_type": "code",
   "execution_count": 36,
   "id": "5d3f6358-11ad-4392-8be4-416dd525bc75",
   "metadata": {},
   "outputs": [
    {
     "name": "stdout",
     "output_type": "stream",
     "text": [
      "+--------------------+------------------------------+--------------------+----------------------+\n",
      "|        hack_license|total_trips_amount_by_jan_2013|minimal_trips_amount|is_min_amount_fulfiled|\n",
      "+--------------------+------------------------------+--------------------+----------------------+\n",
      "|CE625FD96D0FAFC81...|                          1556|                  41|                     Y|\n",
      "|3D757E111C78F5CAC...|                          1514|                  41|                     Y|\n",
      "|3AAB94CA53FE93A64...|                          1486|                  41|                     Y|\n",
      "|03173DD93C1171DA1...|                          1382|                  41|                     Y|\n",
      "|2BF7915E6DC625234...|                          1379|                  41|                     Y|\n",
      "|847349F8845A667D9...|                          1325|                  41|                     Y|\n",
      "|C4E07B8C06FAB8E54...|                          1325|                  41|                     Y|\n",
      "|3578782ABD6492CEB...|                          1282|                  41|                     Y|\n",
      "|314466DCAC0F3733D...|                          1278|                  41|                     Y|\n",
      "|1802778DABBD76460...|                          1242|                  41|                     Y|\n",
      "|7F95B1590B7DA7B13...|                          1238|                  41|                     Y|\n",
      "|23DF80C977D15141F...|                          1237|                  41|                     Y|\n",
      "|704A570E66ABB1941...|                          1207|                  41|                     Y|\n",
      "|3F4E3506DB8F6F9DD...|                          1205|                  41|                     Y|\n",
      "|615566EB4F4EDB606...|                          1196|                  41|                     Y|\n",
      "|962AB34E7D044AF39...|                          1177|                  41|                     Y|\n",
      "|9875258E117C159CA...|                          1166|                  41|                     Y|\n",
      "|9B458BCFDB65D20CF...|                          1164|                  41|                     Y|\n",
      "|FEAF9F0D8BD84ED94...|                          1159|                  41|                     Y|\n",
      "|C779D022381EA6EFE...|                          1152|                  41|                     Y|\n",
      "+--------------------+------------------------------+--------------------+----------------------+\n",
      "only showing top 20 rows\n",
      "\n"
     ]
    }
   ],
   "source": [
    "info_df.show()"
   ]
  },
  {
   "cell_type": "code",
   "execution_count": 37,
   "id": "486c3c5c-6257-4753-8244-2faf9cb69c4f",
   "metadata": {},
   "outputs": [],
   "source": [
    "# 2 Where are passengers picked up and dropped off most often?"
   ]
  },
  {
   "cell_type": "code",
   "execution_count": 38,
   "id": "faeaaaee-a8a3-4025-8d3b-6831bc791678",
   "metadata": {},
   "outputs": [],
   "source": [
    "DECIMAL_PLACES = 3"
   ]
  },
  {
   "cell_type": "code",
   "execution_count": 39,
   "id": "ee7f32a9-239a-43b7-9209-e0416e03836d",
   "metadata": {},
   "outputs": [],
   "source": [
    "geolocation_df = trip_data_df.select('pickup_longitude', 'pickup_latitude', 'dropoff_longitude', 'dropoff_latitude')\n",
    "geolocation_df = geolocation_df.filter(\n",
    "                                       (f.col('pickup_longitude') != 0.0) & \n",
    "                                       (f.col('pickup_latitude') != 0.0) &\n",
    "                                       (f.col('dropoff_longitude') != 0.0) &\n",
    "                                       (f.col('dropoff_latitude') != 0.0)\n",
    "                                      )\n",
    "\n",
    "geolocation_pickup_df = geolocation_df.withColumns({'pickup_longitude_rounded':f.round(f.col('pickup_longitude'), DECIMAL_PLACES),\n",
    "                                                  'pickup_latitude_rounded':f.round(f.col('pickup_latitude'), DECIMAL_PLACES)})\n",
    "geolocation_dropoff_df = geolocation_df.withColumns({'dropoff_longitude_rounded':f.round(f.col('dropoff_longitude'), DECIMAL_PLACES),\n",
    "                                                 'dropoff_latitude_rounded':f.round(f.col('dropoff_latitude'), DECIMAL_PLACES)})"
   ]
  },
  {
   "cell_type": "code",
   "execution_count": 40,
   "id": "cf9a6057-ac56-4572-80bc-ad9741856510",
   "metadata": {},
   "outputs": [],
   "source": [
    "group_pickup_df = geolocation_pickup_df.groupBy(\"pickup_longitude_rounded\", \"pickup_latitude_rounded\")\\\n",
    "                  .agg(f.count('pickup_latitude_rounded').alias('total_captured_passanges'))\\\n",
    "                  .orderBy('total_captured_passanges', ascending=False)"
   ]
  },
  {
   "cell_type": "code",
   "execution_count": 41,
   "id": "c5bc9f30-449b-4573-a362-2cd5b182fd00",
   "metadata": {},
   "outputs": [],
   "source": [
    "group_dropoff_df = geolocation_dropoff_df.groupBy(\"dropoff_longitude_rounded\", \"dropoff_latitude_rounded\")\\\n",
    "                  .agg(f.count('dropoff_longitude_rounded').alias('total_delivered_passanges'))\\\n",
    "                  .orderBy('total_delivered_passanges', ascending=False)"
   ]
  },
  {
   "cell_type": "code",
   "execution_count": 42,
   "id": "305f968c-08a7-4352-8190-78c4da3c83f1",
   "metadata": {},
   "outputs": [
    {
     "name": "stdout",
     "output_type": "stream",
     "text": [
      "+------------------------+-----------------------+------------------------+\n",
      "|pickup_longitude_rounded|pickup_latitude_rounded|total_captured_passanges|\n",
      "+------------------------+-----------------------+------------------------+\n",
      "|                 -73.994|                 40.751|                  103090|\n",
      "|                 -73.991|                  40.75|                   94624|\n",
      "|                 -73.992|                  40.75|                   89453|\n",
      "|                 -73.863|                 40.769|                   70022|\n",
      "|                 -73.871|                 40.774|                   66991|\n",
      "|                 -73.978|                 40.752|                   64506|\n",
      "|                 -73.873|                 40.774|                   60372|\n",
      "|                  -73.99|                 40.757|                   58845|\n",
      "|                 -73.991|                 40.756|                   57877|\n",
      "|                 -74.006|                  40.74|                   52671|\n",
      "|                 -73.982|                 40.768|                   49916|\n",
      "|                 -73.782|                 40.645|                   46875|\n",
      "|                 -73.992|                 40.749|                   45260|\n",
      "|                 -73.995|                  40.75|                   45154|\n",
      "|                 -73.991|                 40.751|                   43605|\n",
      "|                 -73.973|                 40.764|                   42898|\n",
      "|                  -73.99|                 40.756|                   41937|\n",
      "|                 -73.977|                 40.752|                   39331|\n",
      "|                 -73.988|                 40.738|                   39265|\n",
      "|                 -73.777|                 40.645|                   38988|\n",
      "+------------------------+-----------------------+------------------------+\n",
      "only showing top 20 rows\n",
      "\n"
     ]
    }
   ],
   "source": [
    "group_pickup_df.show()"
   ]
  },
  {
   "cell_type": "code",
   "execution_count": 43,
   "id": "73c41ab0-c9b1-4830-9128-99b715aa4ac9",
   "metadata": {},
   "outputs": [
    {
     "name": "stdout",
     "output_type": "stream",
     "text": [
      "+-------------------------+------------------------+-------------------------+\n",
      "|dropoff_longitude_rounded|dropoff_latitude_rounded|total_delivered_passanges|\n",
      "+-------------------------+------------------------+-------------------------+\n",
      "|                  -73.991|                   40.75|                   100509|\n",
      "|                  -73.992|                  40.749|                    75600|\n",
      "|                  -73.995|                   40.75|                    73773|\n",
      "|                  -73.991|                  40.751|                    60052|\n",
      "|                  -73.978|                  40.752|                    52628|\n",
      "|                  -73.992|                   40.75|                    46980|\n",
      "|                   -73.99|                  40.757|                    43981|\n",
      "|                  -73.977|                  40.752|                    43348|\n",
      "|                  -73.871|                  40.774|                    41521|\n",
      "|                  -73.979|                  40.762|                    40172|\n",
      "|                  -73.991|                  40.756|                    38336|\n",
      "|                  -73.873|                  40.774|                    37120|\n",
      "|                  -73.862|                  40.768|                    35556|\n",
      "|                  -74.006|                   40.74|                    34652|\n",
      "|                  -73.973|                  40.764|                    33396|\n",
      "|                  -73.979|                  40.753|                    31517|\n",
      "|                  -73.982|                  40.768|                    29597|\n",
      "|                  -73.989|                  40.748|                    29575|\n",
      "|                  -73.975|                  40.756|                    28819|\n",
      "|                  -74.004|                  40.742|                    27399|\n",
      "+-------------------------+------------------------+-------------------------+\n",
      "only showing top 20 rows\n",
      "\n"
     ]
    }
   ],
   "source": [
    "group_dropoff_df.show()"
   ]
  },
  {
   "cell_type": "code",
   "execution_count": 44,
   "id": "07b88b99-4182-4e6e-8780-0f85fec87f1e",
   "metadata": {},
   "outputs": [],
   "source": [
    "#3 What is the average fare compared to the average tip for each driver "
   ]
  },
  {
   "cell_type": "code",
   "execution_count": 45,
   "id": "59d66d06-9f92-43d8-b537-2d6d24beef57",
   "metadata": {},
   "outputs": [],
   "source": [
    "window_func = Window.partitionBy(\"hack_license\")"
   ]
  },
  {
   "cell_type": "code",
   "execution_count": 46,
   "id": "74f1838e-b93b-470f-98ad-cd3bb89e8668",
   "metadata": {},
   "outputs": [],
   "source": [
    "avg_fare_tip_df = trip_fare_df.withColumn(\"avg_fare_amount\", f.avg(\"fare_amount\").over(window_func))"
   ]
  },
  {
   "cell_type": "code",
   "execution_count": 47,
   "id": "3f133939-515f-4fa4-af0e-067e2e5999ef",
   "metadata": {},
   "outputs": [],
   "source": [
    "avg_fare_tip_df = avg_fare_tip_df.withColumn(\"avg_tip_amount\", f.avg(\"tip_amount\").over(window_func))"
   ]
  },
  {
   "cell_type": "code",
   "execution_count": 48,
   "id": "923384d6-7c31-4df1-81c9-c5c3079ab81e",
   "metadata": {},
   "outputs": [],
   "source": [
    "result_3_df = avg_fare_tip_df.select(\"hack_license\", \"avg_fare_amount\", \"avg_tip_amount\").distinct()"
   ]
  },
  {
   "cell_type": "code",
   "execution_count": 49,
   "id": "f5524860-5a5a-4677-a203-d21653f5b295",
   "metadata": {},
   "outputs": [
    {
     "name": "stdout",
     "output_type": "stream",
     "text": [
      "+--------------------+------------------+------------------+\n",
      "|        hack_license|   avg_fare_amount|    avg_tip_amount|\n",
      "+--------------------+------------------+------------------+\n",
      "|001EEDEA00E57988E...|12.276877133105803|1.3789419783644836|\n",
      "|005DC767BC7CA7827...| 9.873570520965693|1.0283418012240941|\n",
      "|0074114ECFC6F04AA...|10.533576642335767| 1.232364963046717|\n",
      "|007944DEAF33EF8D4...|10.438325991189428|1.2403414072591958|\n",
      "|00927C48BA4C1B2B1...| 9.903508771929825|0.9121052570510328|\n",
      "|00A290CDF574658C1...|13.762094304960195|1.3525719491893795|\n",
      "|00AE05F56D451E89E...|11.288732394366198|1.2822238690681684|\n",
      "|00B938EAB7C933C9B...| 9.738257107540173|1.0834301593327809|\n",
      "|00C2BC1F860FC66BA...|11.253306878306878|1.3253571417098915|\n",
      "|00E1B4CE8617887CC...| 9.933431952662723|1.0867159735146887|\n",
      "|00F6456D2C764D4CC...|11.464147286821705|1.3994428259401777|\n",
      "|0105AF397277017F5...| 9.621951219512194| 1.150139373146283|\n",
      "|013DB7F394A06CD24...|11.524844720496894|1.1336180104046876|\n",
      "|013F4117864733D5E...| 11.35922619047619|1.3238035698199555|\n",
      "|013FB4747860547E4...|  9.57279971024991|0.9959145223837224|\n",
      "|015615BB1B66BA269...|10.027292576419214|1.1022598231292642|\n",
      "|01594037EE38FE0D9...|10.807065217391305|1.4404891317953235|\n",
      "|015B18400858D89EE...| 13.36039768019884|1.5174233618916908|\n",
      "|015D33FBAB8A7C5CE...|12.875818814799345|1.1870801341087145|\n",
      "|01606C9E10D8D0B19...|10.983653846153846|1.3356987159842482|\n",
      "+--------------------+------------------+------------------+\n",
      "only showing top 20 rows\n",
      "\n"
     ]
    }
   ],
   "source": [
    "result_3_df.show()"
   ]
  },
  {
   "cell_type": "code",
   "execution_count": 50,
   "id": "46b13377-01ef-4f77-bd84-090d5516adca",
   "metadata": {},
   "outputs": [],
   "source": [
    "# 4 How many tips earned each driver during January 2013"
   ]
  },
  {
   "cell_type": "code",
   "execution_count": 51,
   "id": "64c8f7db-82c8-4ab2-9c73-472e7f9b03f8",
   "metadata": {},
   "outputs": [],
   "source": [
    "january_df = trip_data_df.filter((f.col('pickup_year') == '2013') & (f.col('pickup_month') == '01'))"
   ]
  },
  {
   "cell_type": "code",
   "execution_count": 52,
   "id": "5bca2f3f-58ab-480e-8024-09ec9cad16c2",
   "metadata": {},
   "outputs": [],
   "source": [
    "trip_data_combined = trip_fare_df.join(january_df, ['medallion', 'hack_license', 'pickup_month'])"
   ]
  },
  {
   "cell_type": "code",
   "execution_count": 53,
   "id": "d18dbad9-dde6-401e-a618-c603299d1709",
   "metadata": {},
   "outputs": [],
   "source": [
    "total_tip_amount_by_driver = trip_data_combined.groupBy(\"hack_license\")\\\n",
    "                            .agg(f.sum(\"tip_amount\").alias(\"total_tip_amount\"))\\\n",
    "                            .orderBy('total_tip_amount', ascending=False)"
   ]
  },
  {
   "cell_type": "code",
   "execution_count": 54,
   "id": "c9b09c55-5b0e-4b51-b79b-47f82ad29a85",
   "metadata": {},
   "outputs": [
    {
     "name": "stdout",
     "output_type": "stream",
     "text": [
      "+--------------------+------------------+\n",
      "|        hack_license|  total_tip_amount|\n",
      "+--------------------+------------------+\n",
      "|3AAB94CA53FE93A64...| 2716931.219559759|\n",
      "|2BF7915E6DC625234...|2615370.0248940587|\n",
      "|CE625FD96D0FAFC81...|  2509625.71612373|\n",
      "|3D757E111C78F5CAC...|2507880.4385518506|\n",
      "|C4E07B8C06FAB8E54...|  2190609.24410522|\n",
      "|23DF80C977D15141F...| 1910286.724994406|\n",
      "|314466DCAC0F3733D...| 1903747.138882231|\n",
      "|847349F8845A667D9...| 1757665.495171398|\n",
      "|FEAF9F0D8BD84ED94...|1751654.6430503726|\n",
      "|8ED700AFCB22F6AC1...|1744427.5129508972|\n",
      "|1802778DABBD76460...| 1743358.135653019|\n",
      "|704A570E66ABB1941...|1686106.5783829056|\n",
      "|7F95B1590B7DA7B13...|1655020.2986228839|\n",
      "|615566EB4F4EDB606...| 1650491.952904433|\n",
      "|C779D022381EA6EFE...|1634595.8315155506|\n",
      "|9875258E117C159CA...| 1626919.795090329|\n",
      "|D425F45DE6E2271BA...|1610717.3569993973|\n",
      "|95FF48E4CF5F5F51C...|1608564.7179958671|\n",
      "|3578782ABD6492CEB...|1597679.6766882539|\n",
      "|92E10581A1EF35744...|1592304.4344895035|\n",
      "+--------------------+------------------+\n",
      "only showing top 20 rows\n",
      "\n"
     ]
    }
   ],
   "source": [
    "total_tip_amount_by_driver.show()"
   ]
  },
  {
   "cell_type": "code",
   "execution_count": 91,
   "id": "ddb26f90-8551-48c1-8a82-058d1e5ae95c",
   "metadata": {},
   "outputs": [],
   "source": [
    "# 6 For each driver, which driver has the highest average number of passengers per trip? "
   ]
  },
  {
   "cell_type": "code",
   "execution_count": 56,
   "id": "912e7973-6e79-40a1-be77-2124d55fb0ca",
   "metadata": {},
   "outputs": [],
   "source": [
    "window_spec = Window.partitionBy(\"hack_license\")"
   ]
  },
  {
   "cell_type": "code",
   "execution_count": 89,
   "id": "0a8aa507-bfe1-4775-863b-b3b9d8103de5",
   "metadata": {},
   "outputs": [],
   "source": [
    "new_df = trip_data_df.withColumn(\"avg_passenger_count\", f.avg(\"passenger_count\").over(window_spec))"
   ]
  },
  {
   "cell_type": "code",
   "execution_count": 58,
   "id": "263c4cf5-6435-4194-8313-e4ddd93562e7",
   "metadata": {},
   "outputs": [],
   "source": [
    "new_df = new_df.withColumn(\"rank\", f.rank().over(window_spec.orderBy(\"avg_passenger_count\")))"
   ]
  },
  {
   "cell_type": "code",
   "execution_count": 59,
   "id": "cc867ef5-8871-4c37-af92-d3e8b4eb67cd",
   "metadata": {},
   "outputs": [],
   "source": [
    "highest_avg_passenger_count_driver = new_df.filter(f.col(\"rank\") == 1).orderBy(f.desc('avg_passenger_count'))"
   ]
  },
  {
   "cell_type": "code",
   "execution_count": 60,
   "id": "c814aa20-cde2-4bad-a6e7-62dbd1422490",
   "metadata": {},
   "outputs": [],
   "source": [
    "highest_avg_passenger_count_driver = highest_avg_passenger_count_driver.select(\"hack_license\", \"avg_passenger_count\").distinct()"
   ]
  },
  {
   "cell_type": "code",
   "execution_count": 61,
   "id": "a46c8b7c-fc2c-43c6-b04b-87cbaff1753f",
   "metadata": {},
   "outputs": [
    {
     "name": "stdout",
     "output_type": "stream",
     "text": [
      "+--------------------+-------------------+\n",
      "|        hack_license|avg_passenger_count|\n",
      "+--------------------+-------------------+\n",
      "|0008B3E338CE8C337...|                1.5|\n",
      "|000A4EBF1CEB9C6BD...| 1.3586387434554974|\n",
      "|0012703023AC1788D...| 1.4365443425076452|\n",
      "|001EEDEA00E57988E...|               1.25|\n",
      "|002D30B52456EC2B4...| 1.0678899082568807|\n",
      "|003A4E7151035D313...| 1.3176605504587156|\n",
      "|003B75F3C6DD9A234...| 1.0119047619047619|\n",
      "|003C68DFE1EBE1205...|                1.0|\n",
      "|005DC767BC7CA7827...| 1.0038143674507312|\n",
      "|006F4A25C76331739...| 1.5201793721973094|\n",
      "|00747A7A258EDA144...|   1.02803738317757|\n",
      "|00759C8ECBA7565D6...| 1.0236220472440944|\n",
      "|00771DD1930D7E9DE...|  1.289228159457167|\n",
      "|0077228F0441716B4...| 1.2657856093979443|\n",
      "|007944DEAF33EF8D4...|  1.171806167400881|\n",
      "|0085204AEBDD4D803...| 1.3144560357675112|\n",
      "|0086B9E2B25EA077F...|  1.433188615533044|\n",
      "|008B6475D6D0D689B...|  1.002669514148425|\n",
      "|008BB66DD209F8976...| 1.0051546391752577|\n",
      "|0091088BB742146A7...| 1.0147379912663756|\n",
      "+--------------------+-------------------+\n",
      "only showing top 20 rows\n",
      "\n"
     ]
    }
   ],
   "source": [
    "highest_avg_passenger_count_driver.show()"
   ]
  },
  {
   "cell_type": "code",
   "execution_count": 90,
   "id": "d7f11c0b-7a14-4693-bbf0-38d93c903a24",
   "metadata": {},
   "outputs": [],
   "source": [
    "# 5 How did the average fare change during the day for each vendor from January to December 2013?"
   ]
  },
  {
   "cell_type": "code",
   "execution_count": 105,
   "id": "12f97995-079c-4d23-85a5-6c3d9db03e9f",
   "metadata": {},
   "outputs": [],
   "source": [
    "january_to_december_df = trip_fare_df.filter(trip_fare_df.pickup_year == '2013')"
   ]
  },
  {
   "cell_type": "code",
   "execution_count": 106,
   "id": "a711bc44-2d85-4649-8902-280b39554e25",
   "metadata": {},
   "outputs": [],
   "source": [
    "window_spec_ = Window.partitionBy(\"vendor_id\", \"pickup_month\")"
   ]
  },
  {
   "cell_type": "code",
   "execution_count": 107,
   "id": "82a2bc0e-6773-47fb-9a66-ae55809aac83",
   "metadata": {},
   "outputs": [],
   "source": [
    "january_to_december_df = january_to_december_df.withColumn(\"avg_fare_amount\",\n",
    "                                                           f.avg(\"fare_amount\")\\\n",
    "                                                           .over(window_spec_))"
   ]
  },
  {
   "cell_type": "code",
   "execution_count": 110,
   "id": "52e48441-d99f-4452-b1df-cf3893c727a3",
   "metadata": {},
   "outputs": [],
   "source": [
    "result_5_df = january_to_december_df.select(\"vendor_id\", \"pickup_month\", \"avg_fare_amount\").distinct()"
   ]
  },
  {
   "cell_type": "code",
   "execution_count": 109,
   "id": "99e18d0e-0843-4378-98ca-4da2ffe4c460",
   "metadata": {},
   "outputs": [
    {
     "name": "stdout",
     "output_type": "stream",
     "text": [
      "+---------+------------+------------------+\n",
      "|vendor_id|pickup_month|   avg_fare_amount|\n",
      "+---------+------------+------------------+\n",
      "|      CMT|          06|12.458074280997451|\n",
      "|      VTS|          07|12.486517200709097|\n",
      "|      CMT|          07|12.206085362879517|\n",
      "|      VTS|          12|12.792086398021143|\n",
      "|      CMT|          10| 12.48274666878785|\n",
      "|      CMT|          11|12.297992846872287|\n",
      "|      VTS|          06| 12.74885933650377|\n",
      "|      VTS|          11|12.590354511199076|\n",
      "|      VTS|          03| 12.16350612955464|\n",
      "|      CMT|          02|11.591116324910375|\n",
      "|      CMT|          05| 12.45473378045649|\n",
      "|      CMT|          01|11.529089919193797|\n",
      "|      VTS|          10|12.807381541295982|\n",
      "|      CMT|          03| 11.90858558995323|\n",
      "|      VTS|          08|12.696985524742793|\n",
      "|      CMT|          12|12.460453301926826|\n",
      "|      VTS|          04|12.407652987031982|\n",
      "|      CMT|          08| 12.45163098429392|\n",
      "|      CMT|          09| 12.57394519776087|\n",
      "|      VTS|          01|11.802671849406343|\n",
      "+---------+------------+------------------+\n",
      "only showing top 20 rows\n",
      "\n"
     ]
    }
   ],
   "source": [
    "result_5_df.show()"
   ]
  },
  {
   "cell_type": "code",
   "execution_count": 68,
   "id": "9f986e81-8491-4d93-8f24-5fdd6afd031c",
   "metadata": {},
   "outputs": [],
   "source": [
    "# Write resulted dataframes after transformation to new CSV files "
   ]
  },
  {
   "cell_type": "code",
   "execution_count": 69,
   "id": "84f89d50-4df4-4020-bcaf-c3e61936a133",
   "metadata": {},
   "outputs": [],
   "source": [
    "info_df.toPandas().to_csv('result1.csv')"
   ]
  },
  {
   "cell_type": "code",
   "execution_count": 70,
   "id": "483a6f79-85e6-46d6-b5c0-0acadd52705e",
   "metadata": {},
   "outputs": [],
   "source": [
    "group_pickup_df.toPandas().to_csv('result2_1.csv')"
   ]
  },
  {
   "cell_type": "code",
   "execution_count": 71,
   "id": "f256205c-38ef-4ca3-a04b-01eb2bcc7a2e",
   "metadata": {},
   "outputs": [],
   "source": [
    "group_dropoff_df.toPandas().to_csv('result2_2.csv')"
   ]
  },
  {
   "cell_type": "code",
   "execution_count": 72,
   "id": "0b07417b-93d7-4cf6-a9d1-797520925982",
   "metadata": {},
   "outputs": [],
   "source": [
    "result_3_df.toPandas().to_csv('result3.csv')"
   ]
  },
  {
   "cell_type": "code",
   "execution_count": 73,
   "id": "8da7df83-835b-4ad5-ab70-fa659bb9d612",
   "metadata": {},
   "outputs": [],
   "source": [
    "total_tip_amount_by_driver.toPandas().to_csv('result4.csv')"
   ]
  },
  {
   "cell_type": "code",
   "execution_count": null,
   "id": "66ffba78-c258-4ac2-abcf-9400d6d70215",
   "metadata": {},
   "outputs": [],
   "source": [
    "result_5_df.toPandas().to_csv('result5.csv')"
   ]
  },
  {
   "cell_type": "code",
   "execution_count": null,
   "id": "4dc71e1e-727c-47a6-98fb-11e5d0e65f2e",
   "metadata": {},
   "outputs": [],
   "source": [
    "highest_avg_passenger_count_driver.toPandas().to_csv('result6.csv')"
   ]
  },
  {
   "cell_type": "code",
   "execution_count": null,
   "id": "2e5dd09c-3b03-454e-acf7-b110c0ec205c",
   "metadata": {},
   "outputs": [],
   "source": [
    "spark_session.close()"
   ]
  }
 ],
 "metadata": {
  "kernelspec": {
   "display_name": "Python 3 (ipykernel)",
   "language": "python",
   "name": "python3"
  },
  "language_info": {
   "codemirror_mode": {
    "name": "ipython",
    "version": 3
   },
   "file_extension": ".py",
   "mimetype": "text/x-python",
   "name": "python",
   "nbconvert_exporter": "python",
   "pygments_lexer": "ipython3",
   "version": "3.10.9"
  }
 },
 "nbformat": 4,
 "nbformat_minor": 5
}
